{
  "cells": [
    {
      "cell_type": "code",
      "source": [
        "import numpy as ny"
      ],
      "outputs": [],
      "execution_count": 1,
      "metadata": {
        "noteable": {},
        "ExecuteTime": {
          "start_time": "2023-12-04T11:39:38.419949+00:00",
          "end_time": "2023-12-04T11:39:38.575095+00:00"
        }
      },
      "id": "800be0b7-d47c-43cb-b672-0d8b9a2ed5f3"
    },
    {
      "cell_type": "code",
      "source": [
        "# Create a 1D array of numbers from 0 to 9.\n",
        "a1=ny.arange(0,10)\n",
        "print(a1)"
      ],
      "outputs": [
        {
          "output_type": "stream",
          "name": "stdout",
          "text": [
            "[0 1 2 3 4 5 6 7 8 9]\n"
          ]
        }
      ],
      "execution_count": 6,
      "metadata": {
        "noteable": {}
      },
      "id": "6c3398be-4ded-4554-9fa6-990a3c6785cb"
    },
    {
      "cell_type": "code",
      "source": [
        "# Extract all odd numbers from the array created in ques 1.\n",
        "mask_odd=a1%2!=0\n",
        "a1[mask_odd]"
      ],
      "outputs": [
        {
          "output_type": "execute_result",
          "execution_count": null,
          "data": {
            "text/plain": "array([1, 3, 5, 7, 9])"
          },
          "metadata": {}
        }
      ],
      "execution_count": 7,
      "metadata": {
        "noteable": {}
      },
      "id": "e83be0eb-88d9-4875-90b9-fe918c5ea250"
    },
    {
      "cell_type": "code",
      "source": [
        "# Replace all odd numbers in the array created in ques 1 with 100.\n",
        "a1[a1%2!=0]=100\n",
        "print(a1)"
      ],
      "outputs": [
        {
          "output_type": "stream",
          "name": "stdout",
          "text": [
            "[  0 100   2 100   4 100   6 100   8 100]\n"
          ]
        }
      ],
      "execution_count": 11,
      "metadata": {
        "noteable": {}
      },
      "id": "e84f0eb0-2fb4-4e05-b226-07ec7ab51af7"
    },
    {
      "cell_type": "code",
      "source": [
        "# Replace all odd numbers in array in ques 1  with 1 without changing the actual array values.\n",
        "a2=a1.copy()\n",
        "a2[a2%2!=0]=1\n",
        "print(a2)"
      ],
      "outputs": [],
      "execution_count": null,
      "metadata": {},
      "id": "6779f46e-a7d9-49b2-b1f2-c6dd55ce5d4f"
    },
    {
      "cell_type": "code",
      "source": [
        "# Declare a 1D array and then convert it to a 2D array with 2 rows.\n",
        "a3=ny.arange(1,9).reshape(2,4)\n",
        "a3"
      ],
      "outputs": [
        {
          "output_type": "execute_result",
          "execution_count": null,
          "data": {
            "text/plain": "array([[1, 2, 3, 4],\n       [5, 6, 7, 8]])"
          },
          "metadata": {}
        }
      ],
      "execution_count": 20,
      "metadata": {
        "noteable": {}
      },
      "id": "a6c835d5-38c0-4e66-bb66-e4e3d2f70982"
    },
    {
      "cell_type": "code",
      "source": [
        "# Get the positions where elements are even in the array declared in ques 1.\n",
        "a4=ny.argsort(a1)\n",
        "a4"
      ],
      "outputs": [
        {
          "output_type": "execute_result",
          "execution_count": null,
          "data": {
            "text/plain": "array([0, 2, 4, 6, 8, 1, 3, 5, 7, 9], dtype=int64)"
          },
          "metadata": {}
        }
      ],
      "execution_count": 21,
      "metadata": {
        "noteable": {}
      },
      "id": "2a02861e-caa3-4c57-8f2e-4981a10b1b8b"
    },
    {
      "cell_type": "code",
      "source": [
        "# Declare and Reverse the rows of a 2D array.\n",
        "a5=ny.arange(1,9).reshape(2,4)\n",
        "a5[::-1]"
      ],
      "outputs": [
        {
          "output_type": "execute_result",
          "execution_count": null,
          "data": {
            "text/plain": "array([[5, 6, 7, 8],\n       [1, 2, 3, 4]])"
          },
          "metadata": {}
        }
      ],
      "execution_count": 24,
      "metadata": {
        "noteable": {}
      },
      "id": "7b8455b9-5532-4ad9-88c1-c97a6fd93dab"
    },
    {
      "cell_type": "code",
      "source": [
        "# Create a 2D array of shape 5x3 to contain random decimal numbers between 5 and 10 by using the following code snippet and then find its mean, median, standard deviation.\n",
        "a6=ny.random.uniform(5,10,size=(5,3))\n",
        "mean=ny.mean(a6)\n",
        "median=ny.median(a6)\n",
        "std=ny.std(a6)\n",
        "print(mean,\"\\n\",median,\"\\n\",std)"
      ],
      "outputs": [
        {
          "output_type": "stream",
          "name": "stdout",
          "text": [
            "7.391500368499787 \n",
            " 6.6837984570177245 \n",
            " 1.6172214800175528\n"
          ]
        }
      ],
      "execution_count": 33,
      "metadata": {
        "noteable": {}
      },
      "id": "b19cb149-eb25-4f43-a2ef-f4c4cf99749b"
    },
    {
      "cell_type": "code",
      "source": [
        "# Create and find the 5th and 95th percentile of an array that contains scores of toppers in four subjects, taken from three different branches of engineering\n",
        "a7=ny.random.randint(1,12,size=12).reshape(3,4)\n",
        "per5=ny.percentile(a7,5)\n",
        "per95=ny.percentile(a7,95)\n",
        "print(per5,\"\\n\",per95)"
      ],
      "outputs": [
        {
          "output_type": "stream",
          "name": "stdout",
          "text": [
            "1.0 \n",
            " 9.899999999999999\n"
          ]
        }
      ],
      "execution_count": 38,
      "metadata": {
        "noteable": {}
      },
      "id": "5f47f087-3d2c-418a-9bfa-920f4d276aaa"
    },
    {
      "cell_type": "code",
      "source": [
        "# From the array A,replace all values greater than 30 to 30 and less than 10 to 10.\n",
        "ny.random.seed(100)\n",
        "a8=ny.random.uniform(1,50,20)\n",
        "mask_30=a8>30\n",
        "a8[mask_30]=30\n",
        "mask_10=a8<10\n",
        "a8[mask_10]=10\n",
        "print(a8)"
      ],
      "outputs": [
        {
          "output_type": "stream",
          "name": "stdout",
          "text": [
            "[27.62684215 14.64009987 21.80136195 30.         10.         10.\n",
            " 30.         30.         10.         29.17957314 30.         11.25090398\n",
            " 10.08108276 10.         11.76517714 30.         30.         10.\n",
            " 30.         14.42961361]\n"
          ]
        }
      ],
      "execution_count": 44,
      "metadata": {
        "noteable": {}
      },
      "id": "22b8a06f-b921-42ca-a6b3-6fe72153a702"
    },
    {
      "cell_type": "code",
      "source": [
        "# Get the positions of top 5 maximum values in the array A generated in ques 13.\n",
        "a9=ny.argsort(a8)\n",
        "max_value=a9[(a9>=5)]\n",
        "print(max_value)"
      ],
      "outputs": [
        {
          "output_type": "stream",
          "name": "stdout",
          "text": [
            "[17  5 13  8 12 11 14 19  9 18  7  6 15 16 10]\n"
          ]
        }
      ],
      "execution_count": 51,
      "metadata": {
        "noteable": {}
      },
      "id": "7085ee6a-ab74-400d-a9fd-5665456ac01c"
    },
    {
      "cell_type": "code",
      "source": [
        "# Convert array_of_arrays(2-D array) into a flat linear 1d array.\n",
        "b1=ny.arange(1,13).reshape(3,4)\n",
        "b1.reshape(-1)"
      ],
      "outputs": [
        {
          "output_type": "execute_result",
          "execution_count": null,
          "data": {
            "text/plain": "array([ 1,  2,  3,  4,  5,  6,  7,  8,  9, 10, 11, 12])"
          },
          "metadata": {}
        }
      ],
      "execution_count": 54,
      "metadata": {
        "noteable": {}
      },
      "id": "61e2ca29-6d33-4bc8-b4c8-5e32a77e8d38"
    },
    {
      "cell_type": "code",
      "source": [
        "# Compute the maximum for each row.\n",
        "ny.random.seed(100)\n",
        "b2=ny.random.randint(1,10,[5,3])\n",
        "max=b2.max(axis=0)\n",
        "print(max)"
      ],
      "outputs": [
        {
          "output_type": "stream",
          "name": "stdout",
          "text": [
            "[9 9 9]\n"
          ]
        }
      ],
      "execution_count": 59,
      "metadata": {
        "noteable": {}
      },
      "id": "e5a49f60-b8a3-40c6-829c-0b3582817e23"
    },
    {
      "cell_type": "code",
      "source": [
        "# Create a numpy array of length 10, starting from 5 and has a step of 3 between consecutive numbers.\n",
        "b3=ny.arange(5,35,3)\n",
        "print(b3)\n",
        "len(b3)"
      ],
      "outputs": [
        {
          "output_type": "stream",
          "name": "stdout",
          "text": [
            "[ 5  8 11 14 17 20 23 26 29 32]\n"
          ]
        },
        {
          "output_type": "execute_result",
          "execution_count": null,
          "data": {
            "text/plain": "10"
          },
          "metadata": {}
        }
      ],
      "execution_count": 60,
      "metadata": {
        "noteable": {},
        "ExecuteTime": {
          "start_time": "2023-12-04T02:41:14.906070+00:00",
          "end_time": "2023-12-04T02:41:15.063163+00:00"
        }
      },
      "id": "b34600fd-8978-4621-8c91-a75c7f343210"
    },
    {
      "cell_type": "code",
      "source": [
        "# Slice the array to get the first two rows and columns.\n",
        "b4=ny.array([[1,3,5,7],[9,11,13,15],[2,4,6,8]])\n",
        "b4[0:2,0:2]"
      ],
      "outputs": [
        {
          "output_type": "execute_result",
          "execution_count": null,
          "data": {
            "text/plain": "array([[ 1,  3],\n       [ 9, 11]])"
          },
          "metadata": {}
        }
      ],
      "execution_count": 64,
      "metadata": {
        "noteable": {}
      },
      "id": "155fe0f8-8893-4b40-b677-48833aad8f4f"
    },
    {
      "cell_type": "code",
      "source": [
        "# Create a 2-D array of shape (3,4), populate it with random integers and then sort it using fancy indexing.\n",
        "b5=ny.random.randint(1,12,size=12).reshape(3,4)\n",
        "fancy=ny.argsort(b5)\n",
        "b5[fancy]"
      ],
      "outputs": [],
      "execution_count": null,
      "metadata": {
        "noteable": {},
        "ExecuteTime": {
          "start_time": "2023-12-04T11:39:46.290547+00:00",
          "end_time": "2023-12-04T11:39:46.457103+00:00"
        }
      },
      "id": "78b487b1-af05-4605-afaa-4df0bbef554f"
    },
    {
      "cell_type": "code",
      "source": [
        "# Get all items between 5 and 10 from an array A with elements [2, 6, 1, 9, 10, 3, 27].\n",
        "b6=ny.array([2,6,1,9,10,3,27])\n",
        "b7=b6[(b6>=5)&(b6<=10)]\n",
        "b7"
      ],
      "outputs": [
        {
          "output_type": "execute_result",
          "execution_count": null,
          "data": {
            "text/plain": "array([ 6,  9, 10])"
          },
          "metadata": {}
        }
      ],
      "execution_count": 69,
      "metadata": {
        "noteable": {}
      },
      "id": "a05ca5c2-75d0-4aa0-a31e-2a8b1a88eba4"
    }
  ],
  "metadata": {
    "kernelspec": {
      "name": "python3",
      "display_name": "Python 3.9",
      "language": "python",
      "language_version": "3.9",
      "identifier": "legacy"
    },
    "language_info": {
      "codemirror_mode": {
        "name": "ipython",
        "version": 3
      },
      "file_extension": ".py",
      "mimetype": "text/x-python",
      "name": "python",
      "nbconvert_exporter": "python",
      "pygments_lexer": "ipython3",
      "version": "3.11.3"
    },
    "noteable": {
      "last_delta_id": "cbd55dea-82f4-4f91-8ed3-ae66eb7c0905"
    },
    "selected_hardware_size": "small",
    "kernel_info": {
      "name": "python3"
    },
    "nteract": {
      "version": "noteable@2.9.0"
    }
  },
  "nbformat": 4,
  "nbformat_minor": 5
}
